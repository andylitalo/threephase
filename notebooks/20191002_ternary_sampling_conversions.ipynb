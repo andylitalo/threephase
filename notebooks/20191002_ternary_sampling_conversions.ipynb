{
 "cells": [
  {
   "cell_type": "code",
   "execution_count": 15,
   "metadata": {},
   "outputs": [],
   "source": [
    "import tern"
   ]
  },
  {
   "cell_type": "code",
   "execution_count": 66,
   "metadata": {
    "scrolled": true
   },
   "outputs": [
    {
     "name": "stdout",
     "output_type": "stream",
     "text": [
      "Mass of cyclopentane added is 80.960 g. Mass of cyclopentane predicted is 77.486 g. Missing mass is 3.474 g.\n"
     ]
    }
   ],
   "source": [
    "# mass of polyol and cyclopentane initially added\n",
    "m_poly = 86.59\n",
    "m_c5 = 80.96\n",
    "\n",
    "# peak areas measured\n",
    "pa_f_c5 = np.array([1.16E9, 1.15E9])\n",
    "pa_b_c5 = np.array([7.23E6, 6.29E6])\n",
    "pa_f_co2 = np.array([6.62E7, 7.12E7])\n",
    "pa_b_co2 = np.array([5.27E7, 5.67E7])\n",
    "\n",
    "# estimate densities of each compound in each phase [g/mL]\n",
    "rho_liq_c5 = tern.pa_conv(pa_f_c5, 'f', 'c5')\n",
    "rho_vap_c5 = 15*tern.pa_conv(pa_b_c5, 'b', 'c5')\n",
    "rho_liq_co2 = tern.pa_conv(pa_f_co2, 'f', 'co2')\n",
    "rho_vap_co2 = 15*tern.pa_conv(pa_b_co2, 'b', 'co2')\n",
    "# density of polyol [g/mL]\n",
    "rho_poly_liq = 1.01 #1.02\n",
    "rho_c5_liq = 0.70 #.71, # 0.751\n",
    "rho_co2_liq = 0.76 #rho_poly_liq\n",
    "rho_co2_hplis = rho_liq_co2\n",
    "rho_c5_hplis = rho_liq_c5\n",
    "rho_poly_hplis = rho_poly_liq*(1-rho_co2_hplis/rho_co2_liq - rho_c5_hplis/rho_c5_liq)\n",
    "# compute weight fractions \n",
    "rho_hplis = rho_co2_hplis + rho_c5_hplis, rho_poly_hplis\n",
    "w_co2_liq = rho_co2_hplis / rho_hplis\n",
    "w_c5_liq = rho_c5_hplis / rho_hplis\n",
    "w_poly_liq = rho_poly_hplis / rho_hplis\n",
    "# volume of liquid phase [mL]\n",
    "V_liq = m_poly / rho_poly_hplis\n",
    "# volume of Parr reactor [mL]\n",
    "V = 1200\n",
    "\n",
    "# predicted mass of cyclopentane [g]\n",
    "m_c5_pred = rho_liq_c5*V_liq + rho_vap_c5*(V - V_liq)\n",
    "\n",
    "print(\"Mass of cyclopentane added is {0:.3f} g. Mass of cyclopentane predicted is {1:.3f} g. Missing mass is {2:.3f} g.\" \\\n",
    "     .format(m_c5, m_c5_pred, m_c5-m_c5_pred))\n",
    "# volume of \n",
    "# estimate weight fractions of each compound in each phase [w/w]\n"
   ]
  },
  {
   "cell_type": "code",
   "execution_count": 55,
   "metadata": {},
   "outputs": [
    {
     "data": {
      "text/plain": [
       "0.0002121310991582287"
      ]
     },
     "execution_count": 55,
     "metadata": {},
     "output_type": "execute_result"
    }
   ],
   "source": [
    "V_poly_hplis = V_hplis*(1-rho_co2_hplis/rho_co2_liq - rho_c5_hplis/rho_c5_liq)\n",
    "V_poly_hplis"
   ]
  },
  {
   "cell_type": "code",
   "execution_count": 53,
   "metadata": {},
   "outputs": [
    {
     "data": {
      "text/plain": [
       "0.8669940796217466"
      ]
     },
     "execution_count": 53,
     "metadata": {},
     "output_type": "execute_result"
    }
   ],
   "source": [
    "rho_co2_hplis + rho_poly_hplis + rho_c5_hplis"
   ]
  },
  {
   "cell_type": "code",
   "execution_count": 68,
   "metadata": {},
   "outputs": [
    {
     "data": {
      "text/plain": [
       "201.38981612446958"
      ]
     },
     "execution_count": 68,
     "metadata": {},
     "output_type": "execute_result"
    }
   ],
   "source": [
    "V0 = m_poly/rho_poly_liq + m_c5/rho_c5_liq\n",
    "V0"
   ]
  },
  {
   "cell_type": "code",
   "execution_count": 67,
   "metadata": {},
   "outputs": [
    {
     "data": {
      "text/plain": [
       "220.33564413448937"
      ]
     },
     "execution_count": 67,
     "metadata": {},
     "output_type": "execute_result"
    }
   ],
   "source": [
    "V_liq"
   ]
  },
  {
   "cell_type": "code",
   "execution_count": 38,
   "metadata": {},
   "outputs": [
    {
     "data": {
      "text/plain": [
       "0.15980850919333117"
      ]
     },
     "execution_count": 38,
     "metadata": {},
     "output_type": "execute_result"
    }
   ],
   "source": [
    "# peak area of co2\n",
    "pa_co2 = 3.5/16*7.83E8\n",
    "spec_vol = 1/1.02\n",
    "V_hplis = 5E-4\n",
    "# mass of CO2 in HPLIS groove [g]\n",
    "m_co2_hplis = tern.pa_conv(pa_co2, 'f', 'co2')*V_hplis\n",
    "\n",
    "# density of co2 in HPLIS groove (estimated to be same as polyol-CO2 mixture as estimated w/ Naples data) [g/mL]\n",
    "rho_co2_hplis = 1/spec_vol # changing to density of pure CO2 at given p and T has negligible effect on result\n",
    "# Volume of co2 in HPLIS [mL]\n",
    "V_co2_hplis = m_co2_hplis / rho_co2_hplis\n",
    "# Volume of polyol in HPLIS [mL]\n",
    "V_poly_hplis = V_hplis - V_co2_hplis\n",
    "# density of polyol in HPLIS [g/mL]--estimated to be same as polyol-CO2 mixture since doesn't change much with CO2\n",
    "rho_poly_hplis = 1/spec_vol\n",
    "\n",
    "# mass of polyol [g]\n",
    "m_poly_hplis = rho_poly_hplis*V_hplis\n",
    "# total mass in HPLIS [g]\n",
    "m_hplis = m_poly_hplis + m_co2_hplis\n",
    "# estimated solubility [w/w]\n",
    "solubility = m_co2_hplis / m_hplis\n",
    "solubility"
   ]
  },
  {
   "cell_type": "code",
   "execution_count": 12,
   "metadata": {},
   "outputs": [],
   "source": [
    "import tern"
   ]
  },
  {
   "cell_type": "code",
   "execution_count": 45,
   "metadata": {},
   "outputs": [
    {
     "data": {
      "text/plain": [
       "0.7103968360591554"
      ]
     },
     "execution_count": 45,
     "metadata": {},
     "output_type": "execute_result"
    }
   ],
   "source": [
    "(1+0.0011*17)**-3*0.751"
   ]
  },
  {
   "cell_type": "code",
   "execution_count": null,
   "metadata": {},
   "outputs": [],
   "source": [
    "pa_f_co2 = 7.12E7\n",
    "pa_b_co2 = 5.67E\n",
    "pa_f_c5 = 37000\n",
    "\n",
    "pa_conv()"
   ]
  }
 ],
 "metadata": {
  "kernelspec": {
   "display_name": "Python 3",
   "language": "python",
   "name": "python3"
  },
  "language_info": {
   "codemirror_mode": {
    "name": "ipython",
    "version": 3
   },
   "file_extension": ".py",
   "mimetype": "text/x-python",
   "name": "python",
   "nbconvert_exporter": "python",
   "pygments_lexer": "ipython3",
   "version": "3.6.5"
  }
 },
 "nbformat": 4,
 "nbformat_minor": 2
}
