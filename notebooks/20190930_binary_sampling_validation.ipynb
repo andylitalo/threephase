{
 "cells": [
  {
   "cell_type": "markdown",
   "metadata": {},
   "source": [
    "# Validation of Binary Sampling Data\n",
    "\n",
    "To validate our method for liquid sampling, we sample a binary system of polyol and CO2 and compare the measured solubility at two different pressures with the measurements made in the Di Maio lab for the same polyol (VORANOL 2110B/1k2f)."
   ]
  },
  {
   "cell_type": "code",
   "execution_count": 9,
   "metadata": {},
   "outputs": [
    {
     "data": {
      "text/plain": [
       "<module 'experiment' from 'C:\\\\Users\\\\Andy.DESKTOP-CFRG05F\\\\OneDrive - California Institute of Technology\\\\Documents\\\\Research\\\\Kornfield\\\\ANALYSIS\\\\ternary_system\\\\experiment.py'>"
      ]
     },
     "execution_count": 9,
     "metadata": {},
     "output_type": "execute_result"
    }
   ],
   "source": [
    "import pandas as pd\n",
    "import numpy as np\n",
    "\n",
    "from timedate import TimeDate\n",
    "import tern\n",
    "import experiment\n",
    "import plot\n",
    "\n",
    "from importlib import reload\n",
    "reload(experiment)"
   ]
  },
  {
   "cell_type": "markdown",
   "metadata": {},
   "source": [
    "## Experimental Setup\n",
    "\n",
    "Below, we define the parameters of the setup of this experiment."
   ]
  },
  {
   "cell_type": "code",
   "execution_count": 10,
   "metadata": {},
   "outputs": [],
   "source": [
    "##### initialize experiment\n",
    "p_tank = 830\n",
    "m_poly = 154.2 # [g]\n",
    "m_c5 = 0\n",
    "m_impurities = 0\n",
    "rho_poly = 1.02 # [g/mL]\n",
    "V = 1200 # volume of the Parr reactor [mL]; read from manual\n",
    "p_isco = 851 # [psi] what's the offset? what's the pressure in the co2 tank?\n",
    "T_isco = 21 # [C]\n",
    "V_isco = 416 # [mL]\n",
    "timedate_0 = TimeDate(date_str='09/27/2019', time_str='16:30:00')\n",
    "\n",
    "exp = experiment.Experiment(m_poly, m_c5, m_impurities, V, p_isco, T_isco, V_isco, timedate_0)"
   ]
  },
  {
   "cell_type": "markdown",
   "metadata": {},
   "source": [
    "## Load Measurements\n",
    "\n",
    "Below we load the parameters of each measurement."
   ]
  },
  {
   "cell_type": "code",
   "execution_count": 11,
   "metadata": {},
   "outputs": [],
   "source": [
    "pa_f_co2 = [5.6E5, 3.2E7, 4.6E7, 4.49E7, 4.45E7, -1, 4.69E7, -1, 1.35E8, 1.33E8, 1.45E8,\n",
    "           1.58E8, -1, 1.65E8]\n",
    "pa_f_c5 = np.zeros([len(pa_f_co2)])\n",
    "pa_b_co2 = [1.3E7, 7.81E6, 6.46E6, 5.86E6, 5.47E6, -1, 5.47E6, -1, 4.67E6, 6.24E7, 6.29E7,\n",
    "           6.08E7, -1, 6.27E7]\n",
    "pa_b_c5 = np.zeros([len(pa_b_co2)])\n",
    "p_parr = [250, 250, 250, 250, 245, 810, 810, 810, 810, 800, 800, 760, 760, 750]\n",
    "T = [37, 37, 37, 35, 35, 37, 37, 37, 40, 36, 36, 39, 38, 37]\n",
    "V_isco = [361, 361, 361, 361, 508, 172.8, 172.8, 172.8, 172.8, 172.8, 172.8, 172.8, 172.8, 172.8]\n",
    "p_isco = [851, 851, 851, 851, 851, 1000, 1000, 1000, 1000, 1000, 1000, 1000, 1000, 1000]\n",
    "just_pressurized = [True, False, False, False, False, True, False, False, False, False, False,\n",
    "                   False, False, False]\n",
    "timedate = [TimeDate(date_str='09/30/2019', time_str='11:14:14'),\n",
    "            TimeDate(date_str='09/30/2019', time_str='11:22:55'),\n",
    "           TimeDate(date_str='09/30/2019', time_str='11:30:33'),\n",
    "           TimeDate(date_str='09/30/2019', time_str='11:39:13'),\n",
    "           TimeDate(date_str='09/30/2019', time_str='11:47:43'),\n",
    "           TimeDate(date_str='09/30/2019', time_str='13:34:25'),\n",
    "           TimeDate(date_str='09/30/2019', time_str='13:41:14'),\n",
    "           TimeDate(date_str='09/30/2019', time_str='15:14:30'),\n",
    "           TimeDate(date_str='09/30/2019', time_str='15:20:08'),\n",
    "           TimeDate(date_str='09/30/2019', time_str='16:19:36'),\n",
    "           TimeDate(date_str='09/30/2019', time_str='16:28:13'),\n",
    "           TimeDate(date_str='10/01/2019', time_str='8:36:30'),\n",
    "           TimeDate(date_str='10/01/2019', time_str='8:47:50'),\n",
    "           TimeDate(date_str='10/01/2019', time_str='8:58:04')]\n",
    "\n",
    "for i in range(len(pa_f_co2)):\n",
    "    meas = experiment.Measurement(exp, pa_f_co2[i], pa_f_c5[i], pa_b_co2[i], pa_b_c5[i], \n",
    "                                  p_parr[i], T[i], V_isco[i], timedate[i], p_isco=p_isco[i], \n",
    "                                  just_pressurized=just_pressurized[i])"
   ]
  },
  {
   "cell_type": "markdown",
   "metadata": {},
   "source": [
    "# Demonstrate the Equilibrium Was Reached"
   ]
  },
  {
   "cell_type": "code",
   "execution_count": 20,
   "metadata": {},
   "outputs": [
    {
     "name": "stderr",
     "output_type": "stream",
     "text": [
      "C:\\Anaconda3\\lib\\site-packages\\pandas\\core\\indexing.py:190: SettingWithCopyWarning: \n",
      "A value is trying to be set on a copy of a slice from a DataFrame\n",
      "\n",
      "See the caveats in the documentation: http://pandas.pydata.org/pandas-docs/stable/indexing.html#indexing-view-versus-copy\n",
      "  self._setitem_with_indexer(indexer, value)\n"
     ]
    },
    {
     "data": {
      "text/plain": [
       "<matplotlib.axes._subplots.AxesSubplot at 0x2864f9b9828>"
      ]
     },
     "execution_count": 20,
     "metadata": {},
     "output_type": "execute_result"
    },
    {
     "data": {
      "image/png": "[encoded data removed]",
      "text/plain": [
       "<Figure size 432x288 with 1 Axes>"
      ]
     },
     "metadata": {},
     "output_type": "display_data"
    },
    {
     "data": {
      "image/png": "[encoded data removed]",
      "text/plain": [
       "<Figure size 432x288 with 2 Axes>"
      ]
     },
     "metadata": {},
     "output_type": "display_data"
    }
   ],
   "source": [
    "import matplotlib.pyplot as plt\n",
    "\n",
    "# demonstration\n",
    "is_error = np.array([m.is_error for m in exp.measurement_list])\n",
    "df = exp.to_df()\n",
    "inds = np.logical_not(is_error)\n",
    "plt.plot((df['elapsed time [min]'].to_numpy(dtype=float)[inds])/60, \n",
    "#          df['peak area (front) co2 [a.u.]'].to_numpy(dtype=float)[inds], \n",
    "            df['pressure [psi]'].to_numpy(dtype=float)[inds], \n",
    "         '^', lw=0, ms=8)\n",
    "plot.plot_two_axes(x=(df['elapsed time [min]'].to_numpy(dtype=float)[inds])/60, \n",
    "         y1=df['peak area (front) co2 [a.u.]'].to_numpy(dtype=float)[inds], \n",
    "            y2=df['pressure [psi]'].to_numpy(dtype=float)[inds], labels=['peak area', 'p'],\n",
    "                  xlabel='time elapsed [h]', ylabels=['peak area [a.u.]', 'pressure [psi]'],\n",
    "                  title='GC Signal for CO2 in Liquid (binary)', t_fs=14)"
   ]
  },
  {
   "cell_type": "code",
   "execution_count": null,
   "metadata": {},
   "outputs": [],
   "source": []
  }
 ],
 "metadata": {
  "kernelspec": {
   "display_name": "Python 3",
   "language": "python",
   "name": "python3"
  },
  "language_info": {
   "codemirror_mode": {
    "name": "ipython",
    "version": 3
   },
   "file_extension": ".py",
   "mimetype": "text/x-python",
   "name": "python",
   "nbconvert_exporter": "python",
   "pygments_lexer": "ipython3",
   "version": "3.6.5"
  }
 },
 "nbformat": 4,
 "nbformat_minor": 2
}
